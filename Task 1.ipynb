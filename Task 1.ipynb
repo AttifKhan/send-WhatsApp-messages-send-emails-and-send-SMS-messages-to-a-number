{
 "cells": [
  {
   "cell_type": "code",
   "execution_count": 2,
   "id": "79423fbb",
   "metadata": {},
   "outputs": [
    {
     "name": "stdout",
     "output_type": "stream",
     "text": [
      "In 90 Seconds WhatsApp will open and after 15 Seconds Message will be Delivered!\n"
     ]
    }
   ],
   "source": [
    "import pywhatkit\n",
    "pywhatkit.sendwhatmsg('+917338677189','HI\\n This is a message sent using python',17,56)"
   ]
  },
  {
   "cell_type": "code",
   "execution_count": 5,
   "id": "05133ccc",
   "metadata": {},
   "outputs": [],
   "source": [
    "from email.message import EmailMessage\n",
    "import ssl\n",
    "import smtplib\n",
    "\n",
    "email_sender = 'sender@gmail.com'\n",
    "email_password ='password'\n",
    "email_reciever ='reciever@gmail.com'\n",
    "\n",
    "subject = 'Automating Email with Python'\n",
    "body = \"\"\"\n",
    "     This is an email generated using python\n",
    "     Ignore it, this is only for testing purpose\n",
    "     Thank You\n",
    "     \"\"\"\n",
    "\n",
    "em = EmailMessage()\n",
    "em['From'] = email_sender\n",
    "em['To'] = email_reciever\n",
    "em['Subject'] = subject\n",
    "em.set_content(body)\n",
    "\n",
    "context = ssl.create_default_context()\n",
    "\n",
    "with smtplib.SMTP_SSL('smtp.gmail.com',465,context = context) as smtp:\n",
    "    smtp.login(email_sender,email_password)\n",
    "    smtp.sendmail(email_sender,email_reciever,em.as_string())"
   ]
  },
  {
   "cell_type": "code",
   "execution_count": 8,
   "id": "3baf2e70",
   "metadata": {},
   "outputs": [
    {
     "name": "stdout",
     "output_type": "stream",
     "text": [
      "SMS message sent successfully. Message SID: SM3b1c5b0d0aef5ee2c1397bdeb3359277\n"
     ]
    }
   ],
   "source": [
    "from twilio.rest import Client\n",
    "\n",
    "# Twilio account SID and authentication token\n",
    "account_sid = 'AC5cde8e57490ba1371ed4b12af3df1f25'\n",
    "auth_token = '8a0f0cbf3a1c4994e5a2292e2012b0d4'\n",
    "\n",
    "\n",
    "client = Client(account_sid, auth_token)\n",
    "\n",
    "# Send an SMS message\n",
    "message = client.messages.create(\n",
    "    body='Hello from Python!',\n",
    "    from_='+15738892099',  # Replace with your Twilio phone number\n",
    "    to='+917338677189'  # Replace with the recipient's phone number\n",
    ")\n",
    "\n",
    "print('SMS message sent successfully. Message SID:', message.sid)\n"
   ]
  },
  {
   "cell_type": "code",
   "execution_count": null,
   "id": "d204a681",
   "metadata": {},
   "outputs": [],
   "source": []
  }
 ],
 "metadata": {
  "kernelspec": {
   "display_name": "Python 3 (ipykernel)",
   "language": "python",
   "name": "python3"
  },
  "language_info": {
   "codemirror_mode": {
    "name": "ipython",
    "version": 3
   },
   "file_extension": ".py",
   "mimetype": "text/x-python",
   "name": "python",
   "nbconvert_exporter": "python",
   "pygments_lexer": "ipython3",
   "version": "3.11.3"
  }
 },
 "nbformat": 4,
 "nbformat_minor": 5
}
